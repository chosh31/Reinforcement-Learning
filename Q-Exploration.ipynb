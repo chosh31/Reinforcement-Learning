{
 "cells": [
  {
   "cell_type": "markdown",
   "metadata": {},
   "source": [
    "# Simple Reinforcement Learning: Exploration Strategies\n",
    "\n",
    "이 노트북은 학습 과정 동안 탐색을 장려하기 위해 사용될 수 있는 다양한 행동 선택 방법들의 구현을 포함한다."
   ]
  },
  {
   "cell_type": "code",
   "execution_count": 1,
   "metadata": {
    "collapsed": false
   },
   "outputs": [],
   "source": [
    "import gym\n",
    "import numpy as np\n",
    "import random\n",
    "import tensorflow as tf\n",
    "import matplotlib.pyplot as plt\n",
    "%matplotlib inline\n",
    "\n",
    "import tensorflow.contrib.slim as slim"
   ]
  },
  {
   "cell_type": "markdown",
   "metadata": {},
   "source": [
    "# 환경 불러오기"
   ]
  },
  {
   "cell_type": "code",
   "execution_count": 2,
   "metadata": {
    "collapsed": false
   },
   "outputs": [
    {
     "name": "stderr",
     "output_type": "stream",
     "text": [
      "[2017-02-15 01:34:05,919] Making new env: CartPole-v0\n"
     ]
    }
   ],
   "source": [
    "env = gym.make('CartPole-v0')"
   ]
  },
  {
   "cell_type": "markdown",
   "metadata": {},
   "source": [
    "# The Deep Q-Network\n",
    "\n",
    "## Helper functions"
   ]
  },
  {
   "cell_type": "code",
   "execution_count": 3,
   "metadata": {
    "collapsed": true
   },
   "outputs": [],
   "source": [
    "# 이전에 소개했지만, 에피소드별 걸음을 다 모으는 경험 버퍼\n",
    "class experience_buffer():\n",
    "    def __init__(self, buffer_size = 10000):\n",
    "        self.buffer = []\n",
    "        self.buffer_size = buffer_size\n",
    "    \n",
    "    def add(self,experience):\n",
    "        if len(self.buffer) + len(experience) >= self.buffer_size:\n",
    "            self.buffer[0:(len(experience)+len(self.buffer))-self.buffer_size] = []\n",
    "        self.buffer.extend(experience)\n",
    "            \n",
    "    def sample(self,size):\n",
    "        return np.reshape(np.array(random.sample(self.buffer,size)),[size,5])\n",
    "    \n",
    "# target network를 tau 만큼 증가시키는 함수    \n",
    "def updateTargetGraph(tfVars,tau):\n",
    "    total_vars = len(tfVars)\n",
    "    op_holder = []\n",
    "    for idx,var in enumerate(tfVars[0:int(total_vars/2)]):\n",
    "        op_holder.append(tfVars[idx+int(total_vars/2)].assign((var.value()*tau) + ((1-tau)*tfVars[idx+int(total_vars/2)].value())))\n",
    "    return op_holder\n",
    "\n",
    "def updateTarget(op_holder,sess):\n",
    "    for op in op_holder:\n",
    "        sess.run(op)"
   ]
  },
  {
   "cell_type": "markdown",
   "metadata": {},
   "source": [
    "# 신경망 구현하기"
   ]
  },
  {
   "cell_type": "code",
   "execution_count": 4,
   "metadata": {
    "collapsed": true
   },
   "outputs": [],
   "source": [
    "class Q_Network():\n",
    "    def __init__(self):\n",
    "        # 행동 선택을 위한 순전파를 구현하는 부분\n",
    "        self.inputs = tf.placeholder(shape=[None,4],dtype=tf.float32)\n",
    "        # boltzmann 을 위한 온도 변수\n",
    "        self.Temp = tf.placeholder(shape=None,dtype=tf.float32)\n",
    "        # bayesian을 위한 dropout keep 변수\n",
    "        self.keep_per = tf.placeholder(shape=None,dtype=tf.float32)\n",
    "        \n",
    "        # 은닉층은 64개\n",
    "        hidden = slim.fully_connected(self.inputs,64,activation_fn=tf.nn.relu,biases_initializer=None)\n",
    "        hidden = slim.dropout(hidden,self.keep_per)\n",
    "        # 예측된 행동 값들\n",
    "        self.Q_out = slim.fully_connected(hidden,2,activation_fn=None,biases_initializer=None)\n",
    "        \n",
    "        # boltzmann을 위한 softmax\n",
    "        self.predict = tf.argmax(self.Q_out,1)\n",
    "        self.Q_dist = tf.nn.softmax(self.Q_out/self.Temp)\n",
    "        \n",
    "        \n",
    "        # target Q 와 Q value의 손실 계산\n",
    "        self.actions = tf.placeholder(shape=[None],dtype=tf.int32)\n",
    "        self.actions_onehot = tf.one_hot(self.actions,2,dtype=tf.float32)\n",
    "        \n",
    "        self.Q = tf.reduce_sum(tf.mul(self.Q_out, self.actions_onehot), reduction_indices=1)\n",
    "        \n",
    "        self.nextQ = tf.placeholder(shape=[None],dtype=tf.float32)\n",
    "        loss = tf.reduce_sum(tf.square(self.nextQ - self.Q))\n",
    "        trainer = tf.train.GradientDescentOptimizer(learning_rate=0.0005)\n",
    "        self.updateModel = trainer.minimize(loss)"
   ]
  },
  {
   "cell_type": "markdown",
   "metadata": {},
   "source": [
    "# 신경망 학습하기"
   ]
  },
  {
   "cell_type": "code",
   "execution_count": 5,
   "metadata": {
    "collapsed": true
   },
   "outputs": [],
   "source": [
    "# 학습 파라미터 설정\n",
    "# greedy, random, e-greedy, boltzmann, bayesian 사이에서 선택\n",
    "# 탐색 방법\n",
    "exploration = \"bayesian\" \n",
    "# 할인 인자\n",
    "y = .99 \n",
    "# 에피소드 몇번 학습할지\n",
    "num_episodes = 10000\n",
    "# target 신경망을 얼마만큼 업데이트할지\n",
    "tau = 0.001\n",
    "# 배치 사이즈\n",
    "batch_size = 32 \n",
    "# 초기 무작위 확률 값\n",
    "startE = 1\n",
    "# 최종 무작위 확률 값\n",
    "endE = 0.1\n",
    "# 몇번에 걸쳐서 줄일 것인가\n",
    "anneling_steps = 200000\n",
    "# 학습 시작 전에 경험 버퍼에 저장할 걸음을 만들어 내는 무작위 걸음\n",
    "pre_train_steps = 50000"
   ]
  },
  {
   "cell_type": "code",
   "execution_count": 6,
   "metadata": {
    "collapsed": false
   },
   "outputs": [
    {
     "name": "stdout",
     "output_type": "stream",
     "text": [
      "Mean Reward: 14.2 Total Steps: 1434 p: 1\n",
      "Mean Reward: 14.3 Total Steps: 2864 p: 1\n",
      "Mean Reward: 14.18 Total Steps: 4282 p: 1\n",
      "Mean Reward: 14.96 Total Steps: 5778 p: 1\n",
      "Mean Reward: 13.03 Total Steps: 7081 p: 1\n",
      "Mean Reward: 13.44 Total Steps: 8425 p: 1\n",
      "Mean Reward: 13.05 Total Steps: 9730 p: 1\n",
      "Mean Reward: 13.76 Total Steps: 11106 p: 1\n",
      "Mean Reward: 14.47 Total Steps: 12553 p: 1\n",
      "Mean Reward: 13.9 Total Steps: 13943 p: 1\n",
      "Mean Reward: 13.74 Total Steps: 15317 p: 1\n",
      "Mean Reward: 14.24 Total Steps: 16741 p: 1\n",
      "Mean Reward: 14.09 Total Steps: 18150 p: 1\n",
      "Mean Reward: 13.86 Total Steps: 19536 p: 1\n",
      "Mean Reward: 14.38 Total Steps: 20974 p: 1\n",
      "Mean Reward: 13.47 Total Steps: 22321 p: 1\n",
      "Mean Reward: 14.57 Total Steps: 23778 p: 1\n",
      "Mean Reward: 14.04 Total Steps: 25182 p: 1\n",
      "Mean Reward: 13.91 Total Steps: 26573 p: 1\n",
      "Mean Reward: 13.9 Total Steps: 27963 p: 1\n",
      "Mean Reward: 13.95 Total Steps: 29358 p: 1\n",
      "Mean Reward: 13.91 Total Steps: 30749 p: 1\n",
      "Mean Reward: 13.59 Total Steps: 32108 p: 1\n",
      "Mean Reward: 14.37 Total Steps: 33545 p: 1\n",
      "Mean Reward: 13.9 Total Steps: 34935 p: 1\n",
      "Mean Reward: 14.01 Total Steps: 36336 p: 1\n",
      "Mean Reward: 14.19 Total Steps: 37755 p: 1\n",
      "Mean Reward: 14.11 Total Steps: 39166 p: 1\n",
      "Mean Reward: 14.19 Total Steps: 40585 p: 1\n",
      "Mean Reward: 13.29 Total Steps: 41914 p: 1\n",
      "Mean Reward: 13.48 Total Steps: 43262 p: 1\n",
      "Mean Reward: 14.12 Total Steps: 44674 p: 1\n",
      "Mean Reward: 13.36 Total Steps: 46010 p: 1\n",
      "Mean Reward: 13.47 Total Steps: 47357 p: 1\n",
      "Mean Reward: 13.85 Total Steps: 48742 p: 1\n",
      "Mean Reward: 14.85 Total Steps: 50227 p: 0.9989830000000084\n",
      "Mean Reward: 16.94 Total Steps: 51921 p: 0.9913600000000713\n",
      "Mean Reward: 16.99 Total Steps: 53620 p: 0.9837145000001344\n",
      "Mean Reward: 17.2 Total Steps: 55340 p: 0.9759745000001983\n",
      "Mean Reward: 14.46 Total Steps: 56786 p: 0.969467500000252\n",
      "Mean Reward: 14.65 Total Steps: 58251 p: 0.9628750000003063\n",
      "Mean Reward: 13.98 Total Steps: 59649 p: 0.9565840000003583\n",
      "Mean Reward: 13.22 Total Steps: 60971 p: 0.9506350000004073\n",
      "Mean Reward: 13.09 Total Steps: 62280 p: 0.944744500000456\n",
      "Mean Reward: 12.65 Total Steps: 63545 p: 0.9390520000005029\n",
      "Mean Reward: 12.23 Total Steps: 64768 p: 0.9335485000005483\n",
      "Mean Reward: 11.73 Total Steps: 65941 p: 0.9282700000005919\n",
      "Mean Reward: 11.76 Total Steps: 67117 p: 0.9229780000006356\n",
      "Mean Reward: 12.09 Total Steps: 68326 p: 0.9175375000006805\n",
      "Mean Reward: 12.03 Total Steps: 69529 p: 0.9121240000007251\n",
      "Mean Reward: 10.98 Total Steps: 70627 p: 0.9071830000007659\n",
      "Mean Reward: 11.01 Total Steps: 71728 p: 0.9022285000008068\n",
      "Mean Reward: 10.75 Total Steps: 72803 p: 0.8973910000008467\n",
      "Mean Reward: 11.39 Total Steps: 73942 p: 0.892265500000889\n",
      "Mean Reward: 10.58 Total Steps: 75000 p: 0.8875045000009283\n",
      "Mean Reward: 10.51 Total Steps: 76051 p: 0.8827750000009673\n",
      "Mean Reward: 10.92 Total Steps: 77143 p: 0.8778610000010079\n",
      "Mean Reward: 10.6 Total Steps: 78203 p: 0.8730910000010472\n",
      "Mean Reward: 10.5 Total Steps: 79253 p: 0.8683660000010862\n",
      "Mean Reward: 10.49 Total Steps: 80302 p: 0.8636455000011252\n",
      "Mean Reward: 10.9 Total Steps: 81392 p: 0.8587405000011656\n",
      "Mean Reward: 10.48 Total Steps: 82440 p: 0.8540245000012046\n",
      "Mean Reward: 10.94 Total Steps: 83534 p: 0.8491015000012452\n",
      "Mean Reward: 10.57 Total Steps: 84591 p: 0.8443450000012844\n",
      "Mean Reward: 10.7 Total Steps: 85661 p: 0.8395300000013242\n",
      "Mean Reward: 10.68 Total Steps: 86729 p: 0.8347240000013638\n",
      "Mean Reward: 10.14 Total Steps: 87743 p: 0.8301610000014015\n",
      "Mean Reward: 10.15 Total Steps: 88758 p: 0.8255935000014392\n",
      "Mean Reward: 9.94 Total Steps: 89752 p: 0.8211205000014761\n",
      "Mean Reward: 10.22 Total Steps: 90774 p: 0.816521500001514\n",
      "Mean Reward: 10.04 Total Steps: 91778 p: 0.8120035000015513\n",
      "Mean Reward: 10.11 Total Steps: 92789 p: 0.8074540000015888\n",
      "Mean Reward: 9.89 Total Steps: 93778 p: 0.8030035000016256\n",
      "Mean Reward: 9.92 Total Steps: 94770 p: 0.7985395000016624\n",
      "Mean Reward: 9.9 Total Steps: 95760 p: 0.7940845000016992\n",
      "Mean Reward: 10.01 Total Steps: 96761 p: 0.7895800000017363\n",
      "Mean Reward: 10.03 Total Steps: 97764 p: 0.7850665000017736\n",
      "Mean Reward: 10.03 Total Steps: 98767 p: 0.7805530000018108\n",
      "Mean Reward: 10.0 Total Steps: 99767 p: 0.776053000001848\n",
      "Mean Reward: 9.93 Total Steps: 100760 p: 0.7715845000018848\n",
      "Mean Reward: 9.98 Total Steps: 101758 p: 0.7670935000019219\n",
      "Mean Reward: 10.04 Total Steps: 102762 p: 0.7625755000019592\n",
      "Mean Reward: 9.99 Total Steps: 103761 p: 0.7580800000019963\n",
      "Mean Reward: 10.36 Total Steps: 104797 p: 0.7534180000020347\n",
      "Mean Reward: 10.05 Total Steps: 105802 p: 0.7488955000020721\n",
      "Mean Reward: 11.31 Total Steps: 106933 p: 0.743806000002114\n",
      "Mean Reward: 11.16 Total Steps: 108049 p: 0.7387840000021555\n",
      "Mean Reward: 10.83 Total Steps: 109132 p: 0.7339105000021957\n",
      "Mean Reward: 10.49 Total Steps: 110181 p: 0.7291900000022347\n",
      "Mean Reward: 11.44 Total Steps: 111325 p: 0.7240420000022771\n",
      "Mean Reward: 11.55 Total Steps: 112480 p: 0.71884450000232\n",
      "Mean Reward: 11.03 Total Steps: 113583 p: 0.713881000002361\n",
      "Mean Reward: 11.94 Total Steps: 114777 p: 0.7085080000024053\n",
      "Mean Reward: 11.55 Total Steps: 115932 p: 0.7033105000024482\n",
      "Mean Reward: 11.92 Total Steps: 117124 p: 0.6979465000024925\n",
      "Mean Reward: 12.53 Total Steps: 118377 p: 0.692308000002539\n",
      "Mean Reward: 12.19 Total Steps: 119596 p: 0.6868225000025843\n",
      "Mean Reward: 12.43 Total Steps: 120839 p: 0.6812290000026304\n",
      "Mean Reward: 13.08 Total Steps: 122147 p: 0.675343000002679\n",
      "Percent of succesful episodes: 12.3471%\n"
     ]
    }
   ],
   "source": [
    "# 텐서플로 그래프를 초기화\n",
    "tf.reset_default_graph()\n",
    "\n",
    "# 주요 신경망\n",
    "q_net = Q_Network()\n",
    "# 타겟 신경망\n",
    "target_net = Q_Network()\n",
    "\n",
    "# 변수 초기화\n",
    "init = tf.global_variables_initializer()\n",
    "# 학습 가능한 변수 추출\n",
    "trainables = tf.trainable_variables()\n",
    "# target 신경망 초기화\n",
    "targetOps = updateTargetGraph(trainables,tau)\n",
    "# 경험버퍼 초기화\n",
    "myBuffer = experience_buffer()\n",
    "\n",
    "\n",
    "# 에피소드별 총 보상과 걸음 저장\n",
    "jList = []\n",
    "jMeans = []\n",
    "rList = []\n",
    "rMeans = []\n",
    "\n",
    "# gpu 에러를 방지\n",
    "config = tf.ConfigProto(\n",
    "        device_count={'GPU': 0}  # uncomment this line to force CPU\n",
    "    )\n",
    "\n",
    "# 텐서플로 시작\n",
    "with tf.Session(config=config) as sess:\n",
    "    # 변수 초기화\n",
    "    sess.run(init)\n",
    "    # 타겟 신경망을 주요 신경망과 동일하게 설정\n",
    "    updateTarget(targetOps,sess)\n",
    "    # 초기 무작위 확률값\n",
    "    e = startE\n",
    "    # 줄여나갈 값\n",
    "    stepDrop = (startE - endE)/anneling_steps\n",
    "    # 총 걸음 수\n",
    "    total_steps = 0\n",
    "    \n",
    "    # 에피소드 시작\n",
    "    for i in range(num_episodes):\n",
    "        # 상태 초기화\n",
    "        s = env.reset()\n",
    "        # 보상 초기화\n",
    "        rAll = 0\n",
    "        # 종료여부 초기화\n",
    "        d = False\n",
    "        # 걸음수 초기화 (여기서는 움직일 횟수)\n",
    "        j = 0\n",
    "        # 999 이전까지 반복\n",
    "        while j < 999:\n",
    "            j+=1\n",
    "            if exploration == \"greedy\":\n",
    "                # 최대 기대값 행동 선택\n",
    "                a,allQ = sess.run([q_net.predict,q_net.Q_out],feed_dict={q_net.inputs:[s],q_net.keep_per:1.0})\n",
    "                a = a[0]\n",
    "            if exploration == \"random\":\n",
    "                # 무작위 행동 선택\n",
    "                a = env.action_space.sample()\n",
    "            if exploration == \"e-greedy\":\n",
    "                # e보다 작은 경우 무작위 행동, 아니면 Q-network 를 통한 행동 선택\n",
    "                if np.random.rand(1) < e or total_steps < pre_train_steps:\n",
    "                    a = env.action_space.sample()\n",
    "                else:\n",
    "                    a,allQ = sess.run([q_net.predict,q_net.Q_out],feed_dict={q_net.inputs:[s],q_net.keep_per:1.0})\n",
    "                    a = a[0]\n",
    "            if exploration == \"boltzmann\":\n",
    "                # Q-value에 상대적으로 가중된 확률적 행동 선택\n",
    "                Q_d,allQ = sess.run([q_net.Q_dist,q_net.Q_out],feed_dict={q_net.inputs:[s],q_net.Temp:e,q_net.keep_per:1.0})\n",
    "                a = np.random.choice(Q_d[0],p=Q_d[0])\n",
    "                a = np.argmax(Q_d[0] == a)\n",
    "            if exploration == \"bayesian\":\n",
    "                # bayesian q-network의 dropout 근사로부터 추출된 값들을 사용해 행동 선택\n",
    "                a,allQ = sess.run([q_net.predict,q_net.Q_out],feed_dict={q_net.inputs:[s],q_net.keep_per:(1-e)+0.1})\n",
    "                a = a[0]\n",
    "                \n",
    "            # 새로운 상태와 보상 얻기\n",
    "            s1,r,d,_ = env.step(a)\n",
    "            # 경험 버퍼에 저장\n",
    "            myBuffer.add(np.reshape(np.array([s,a,r,s1,d]),[1,5]))\n",
    "            \n",
    "            # 무작위 확률값 줄여나감\n",
    "            if e > endE and total_steps > pre_train_steps:\n",
    "                e -= stepDrop\n",
    "            \n",
    "            if total_steps > pre_train_steps and total_steps % 5 == 0:\n",
    "                # Double-DQN 알고리즘 사용\n",
    "                trainBatch = myBuffer.sample(batch_size)\n",
    "                Q1 = sess.run(q_net.predict,feed_dict={q_net.inputs:np.vstack(trainBatch[:,3]),q_net.keep_per:1.0})\n",
    "                Q2 = sess.run(target_net.Q_out,feed_dict={target_net.inputs:np.vstack(trainBatch[:,3]),target_net.keep_per:1.0})\n",
    "                end_multiplier = -(trainBatch[:,4] - 1)\n",
    "                doubleQ = Q2[range(batch_size),Q1]\n",
    "                targetQ = trainBatch[:,2] + (y*doubleQ * end_multiplier)\n",
    "                _ = sess.run(q_net.updateModel,feed_dict={q_net.inputs:np.vstack(trainBatch[:,0]),q_net.nextQ:targetQ,q_net.keep_per:1.0,q_net.actions:trainBatch[:,1]})\n",
    "                updateTarget(targetOps,sess)\n",
    "            \n",
    "            # 총 보상 더 하기\n",
    "            rAll += r\n",
    "            # 상태 업데이트\n",
    "            s = s1\n",
    "            # 걸음 업데이트\n",
    "            total_steps += 1\n",
    "            # 종료\n",
    "            if d == True:\n",
    "                break\n",
    "        jList.append(j)\n",
    "        rList.append(rAll)\n",
    "        if i % 100 == 0 and i != 0:\n",
    "            r_mean = np.mean(rList[-100:])\n",
    "            j_mean = np.mean(jList[-100:])\n",
    "            if exploration == 'e-greedy':\n",
    "                print (\"Mean Reward: \" + str(r_mean) + \" Total Steps: \" + str(total_steps) + \" e: \" + str(e))\n",
    "            if exploration == 'boltzmann':\n",
    "                print (\"Mean Reward: \" + str(r_mean) + \" Total Steps: \" + str(total_steps) + \" t: \" + str(e))\n",
    "            if exploration == 'bayesian':\n",
    "                print (\"Mean Reward: \" + str(r_mean) + \" Total Steps: \" + str(total_steps) + \" p: \" + str(e))\n",
    "            if exploration == 'random' or exploration == 'greedy':\n",
    "                print (\"Mean Reward: \" + str(r_mean) + \" Total Steps: \" + str(total_steps))\n",
    "            rMeans.append(r_mean)\n",
    "            jMeans.append(j_mean)\n",
    "print (\"Percent of succesful episodes: \" + str(sum(rList)/num_episodes) + \"%\")"
   ]
  },
  {
   "cell_type": "markdown",
   "metadata": {},
   "source": [
    "# 신경망 성능에 대한 몇가지 통계"
   ]
  },
  {
   "cell_type": "code",
   "execution_count": 7,
   "metadata": {
    "collapsed": false
   },
   "outputs": [
    {
     "data": {
      "text/plain": [
       "[<matplotlib.lines.Line2D at 0x179d2753908>]"
      ]
     },
     "execution_count": 7,
     "metadata": {},
     "output_type": "execute_result"
    },
    {
     "data": {
      "image/png": "[encoded data removed]",
      "text/plain": [
       "<matplotlib.figure.Figure at 0x179cf057e48>"
      ]
     },
     "metadata": {},
     "output_type": "display_data"
    }
   ],
   "source": [
    "plt.plot(rMeans)"
   ]
  },
  {
   "cell_type": "code",
   "execution_count": 8,
   "metadata": {
    "collapsed": false
   },
   "outputs": [
    {
     "data": {
      "text/plain": [
       "[<matplotlib.lines.Line2D at 0x179d37cfda0>]"
      ]
     },
     "execution_count": 8,
     "metadata": {},
     "output_type": "execute_result"
    },
    {
     "data": {
      "image/png": "[encoded data removed]",
      "text/plain": [
       "<matplotlib.figure.Figure at 0x179cf057ac8>"
      ]
     },
     "metadata": {},
     "output_type": "display_data"
    }
   ],
   "source": [
    "plt.plot(jMeans)"
   ]
  }
 ],
 "metadata": {
  "anaconda-cloud": {},
  "kernelspec": {
   "display_name": "Python [conda root]",
   "language": "python",
   "name": "conda-root-py"
  },
  "language_info": {
   "codemirror_mode": {
    "name": "ipython",
    "version": 3
   },
   "file_extension": ".py",
   "mimetype": "text/x-python",
   "name": "python",
   "nbconvert_exporter": "python",
   "pygments_lexer": "ipython3",
   "version": "3.5.2"
  }
 },
 "nbformat": 4,
 "nbformat_minor": 1
}
