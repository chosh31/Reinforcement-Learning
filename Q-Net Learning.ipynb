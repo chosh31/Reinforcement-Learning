{
 "cells": [
  {
   "cell_type": "markdown",
   "metadata": {},
   "source": [
    "# Q-Net Learning"
   ]
  },
  {
   "cell_type": "code",
   "execution_count": 1,
   "metadata": {
    "collapsed": true
   },
   "outputs": [],
   "source": [
    "import gym\n",
    "import numpy as np\n",
    "import random\n",
    "import tensorflow as tf\n",
    "import matplotlib.pyplot as plt\n",
    "%matplotlib inline"
   ]
  },
  {
   "cell_type": "markdown",
   "metadata": {},
   "source": [
    "# 환경을 불러온다"
   ]
  },
  {
   "cell_type": "code",
   "execution_count": 2,
   "metadata": {
    "collapsed": false
   },
   "outputs": [
    {
     "name": "stderr",
     "output_type": "stream",
     "text": [
      "[2017-02-10 11:25:41,941] Making new env: FrozenLake-v0\n"
     ]
    }
   ],
   "source": [
    "env = gym.make('FrozenLake-v0')"
   ]
  },
  {
   "cell_type": "markdown",
   "metadata": {},
   "source": [
    "# Q-Network 방법\n",
    "## 네트워크를 실제로 구현해보기"
   ]
  },
  {
   "cell_type": "code",
   "execution_count": 3,
   "metadata": {
    "collapsed": true
   },
   "outputs": [],
   "source": [
    "# 텐서플로 내의 그래프를 초기화해준다.\n",
    "# 초기화를 하지 않으면 동일 이름이 있는 경우에 에러가 나게 됨.\n",
    "tf.reset_default_graph()"
   ]
  },
  {
   "cell_type": "code",
   "execution_count": 4,
   "metadata": {
    "collapsed": true
   },
   "outputs": [],
   "source": [
    "# 액션을 선택하기 위해 사용되는 신경망의 feed forward 부분을 구현하는 내용\n",
    "# 입력값은 1x16 의 벡터로 들어온다\n",
    "inputs1 = tf.placeholder(shape=[1,16],dtype=tf.float32)\n",
    "# 가중치는 16x4로 초기화되어 input * w의 결과가 4개 나온다\n",
    "W = tf.Variable(tf.random_uniform([16,4],0,0.01))\n",
    "# 행렬곱을 통해 1x16 * 16x4 로 1x4의 결과를 내어줌\n",
    "Qout = tf.matmul(inputs1,W)\n",
    "# 가장 예측값이 큰 인덱스를 찾는 부분\n",
    "# argmax는 가장 큰 값을 찾는 것이 아니라 가장 큰 값일 때의 인덱스를 찾는다.\n",
    "predict = tf.argmax(Qout,1)\n",
    "\n",
    "# 예측된 Q 값과 타겟 사이의 차이의 제곱합을 손실로 얻는 과정\n",
    "# nextQ는 나중에 env.step으로 위에서 선택된 action을 실행하고 난 이후의 상태(다음 상태 s')를 넣었을 때 Q 값들이다.\n",
    "nextQ = tf.placeholder(shape=[1,4],dtype=tf.float32)\n",
    "# 손실은 다음 Q와 현재 예측 Q의 차이의 제곱합\n",
    "loss = tf.reduce_sum(tf.square(nextQ - Qout))\n",
    "# SGD로 학습한다. 학습률은 0.1\n",
    "trainer = tf.train.GradientDescentOptimizer(learning_rate=0.1)\n",
    "# SGD로 손실을 최소로 만드는 W를 찾아간다.\n",
    "updateModel = trainer.minimize(loss)"
   ]
  },
  {
   "cell_type": "markdown",
   "metadata": {},
   "source": [
    "## 신경망 학습하기"
   ]
  },
  {
   "cell_type": "code",
   "execution_count": 7,
   "metadata": {
    "collapsed": false
   },
   "outputs": [
    {
     "name": "stdout",
     "output_type": "stream",
     "text": [
      "Percent of succesful episodes: 0.13%\n"
     ]
    }
   ],
   "source": [
    "# 텐서플로는 모든 것이 연산자로 구현이 되어 있어서, valiable 초기화를 해주기 전까지는 아무 값이 할당되어 있지 않다.\n",
    "init = tf.global_variables_initializer()\n",
    "\n",
    "# 학습 파라미터 설정\n",
    "y = .99 # 할인율\n",
    "e = 0.1 # e-greedy 로 e의 확률로 랜덤한 행동(action)을 하게 함\n",
    "num_episodes = 2000 # 에피소드 수\n",
    "\n",
    "# 에피소드당 걸음과 총 보상을 저장하기 위한 리스트\n",
    "jList = []\n",
    "rList = []\n",
    "\n",
    "# 텐서플로를 켜는 Session\n",
    "with tf.Session() as sess:\n",
    "    # 초기화하지 않으면 모든 변수에는 아무 값이 없어서 초기화를 해주는 연산을 실행\n",
    "    sess.run(init)\n",
    "    \n",
    "    # 에피소드마다 반복하기\n",
    "    for i in range(num_episodes):\n",
    "        # 첫번째 상태를 초기화해주고 보상, 걸음도 초기화\n",
    "        s = env.reset()\n",
    "        rAll = 0\n",
    "        d = False\n",
    "        j = 0\n",
    "        \n",
    "        # The Q-Network\n",
    "        while j < 99:\n",
    "            j+=1\n",
    "            # Q-network로 부터 나온 q 값에 의해 행동을 선택함(다만 e의 확률로 랜덤한 행동)\n",
    "            # a, allQ 에는 현재 상태를 바탕으로 한 Q 값들이 나오고 가장 큰 인덱스가 a에 들어있음\n",
    "            a,allQ = sess.run([predict,Qout],feed_dict={inputs1:np.identity(16)[s:s+1]})\n",
    "            if np.random.rand(1) < e:\n",
    "                a[0] = env.action_space.sample()\n",
    "            \n",
    "            # 환경으로부터 새로운 상태와 보상을 얻음\n",
    "            s1,r,d,_ = env.step(a[0])\n",
    "            \n",
    "            # 새로운 상태를 우리 신경망에 넣어서 Q' 값을 얻음 (1x4) (여기의 max 값이 Q value 에 더해져 target이 됨)\n",
    "            Q1 = sess.run(Qout,feed_dict={inputs1:np.identity(16)[s1:s1+1]})\n",
    "            # 선택된 액션에 대한 타겟값과 maxq' 를 얻음\n",
    "            maxQ1 = np.max(Q1)\n",
    "            # target이 될 Q table을 업데이트 해줌\n",
    "            targetQ = allQ\n",
    "            targetQ[0,a[0]] = r + y*maxQ1\n",
    "            \n",
    "            # 예측된 Q 값과 target Q 값을 이용해 신경망을 학습함\n",
    "            _,W1 = sess.run([updateModel,W],feed_dict={inputs1:np.identity(16)[s:s+1],nextQ:targetQ})\n",
    "            # 총 보상을 더해줌\n",
    "            rAll += r\n",
    "            # 상태를 변경해줌\n",
    "            s = s1\n",
    "            # 끝에 도달하면 끝냄\n",
    "            if d == True:\n",
    "                # 랜덤하게 행동할 확률을 점점 낮춰줌\n",
    "                e = 1./((i/50) + 10)\n",
    "                break\n",
    "        # 몇걸음만에 끝났는지 기록\n",
    "        jList.append(j)\n",
    "        # 에피소드의 총 보상을 기록\n",
    "        rList.append(rAll)\n",
    "# 평균적인 보상이 얼마인지 나타냄\n",
    "print (\"Percent of succesful episodes: \" + str(sum(rList)/num_episodes) + \"%\")"
   ]
  },
  {
   "cell_type": "markdown",
   "metadata": {},
   "source": [
    "# 신경망 성능에 대한 몇가지 통계"
   ]
  },
  {
   "cell_type": "code",
   "execution_count": 8,
   "metadata": {
    "collapsed": false
   },
   "outputs": [
    {
     "data": {
      "text/plain": [
       "[<matplotlib.lines.Line2D at 0x1e0b830bf28>]"
      ]
     },
     "execution_count": 8,
     "metadata": {},
     "output_type": "execute_result"
    },
    {
     "data": {
      "image/png": "[encoded data removed]",
      "text/plain": [
       "<matplotlib.figure.Figure at 0x1df60326160>"
      ]
     },
     "metadata": {},
     "output_type": "display_data"
    }
   ],
   "source": [
    "plt.plot(rList)"
   ]
  },
  {
   "cell_type": "markdown",
   "metadata": {},
   "source": [
    "## 500 정도 지날때부터 잘하기 시작함"
   ]
  },
  {
   "cell_type": "code",
   "execution_count": 9,
   "metadata": {
    "collapsed": false
   },
   "outputs": [
    {
     "data": {
      "text/plain": [
       "[<matplotlib.lines.Line2D at 0x1e0b83ab358>]"
      ]
     },
     "execution_count": 9,
     "metadata": {},
     "output_type": "execute_result"
    },
    {
     "data": {
      "image/png": "[encoded data removed]",
      "text/plain": [
       "<matplotlib.figure.Figure at 0x1df6031d9b0>"
      ]
     },
     "metadata": {},
     "output_type": "display_data"
    }
   ],
   "source": [
    "plt.plot(jList)"
   ]
  },
  {
   "cell_type": "code",
   "execution_count": null,
   "metadata": {
    "collapsed": true
   },
   "outputs": [],
   "source": []
  }
 ],
 "metadata": {
  "anaconda-cloud": {},
  "kernelspec": {
   "display_name": "Python [conda root]",
   "language": "python",
   "name": "conda-root-py"
  },
  "language_info": {
   "codemirror_mode": {
    "name": "ipython",
    "version": 3
   },
   "file_extension": ".py",
   "mimetype": "text/x-python",
   "name": "python",
   "nbconvert_exporter": "python",
   "pygments_lexer": "ipython3",
   "version": "3.5.2"
  }
 },
 "nbformat": 4,
 "nbformat_minor": 1
}
